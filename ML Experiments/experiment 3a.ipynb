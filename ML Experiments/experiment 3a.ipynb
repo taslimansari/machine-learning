{
 "cells": [
  {
   "cell_type": "code",
   "execution_count": 1,
   "id": "15ae49dc",
   "metadata": {},
   "outputs": [
    {
     "data": {
      "text/html": [
       "<div>\n",
       "<style scoped>\n",
       "    .dataframe tbody tr th:only-of-type {\n",
       "        vertical-align: middle;\n",
       "    }\n",
       "\n",
       "    .dataframe tbody tr th {\n",
       "        vertical-align: top;\n",
       "    }\n",
       "\n",
       "    .dataframe thead th {\n",
       "        text-align: right;\n",
       "    }\n",
       "</style>\n",
       "<table border=\"1\" class=\"dataframe\">\n",
       "  <thead>\n",
       "    <tr style=\"text-align: right;\">\n",
       "      <th></th>\n",
       "      <th>x</th>\n",
       "      <th>y</th>\n",
       "      <th>sum</th>\n",
       "    </tr>\n",
       "  </thead>\n",
       "  <tbody>\n",
       "    <tr>\n",
       "      <th>0</th>\n",
       "      <td>1.0</td>\n",
       "      <td>1.0</td>\n",
       "      <td>2.0</td>\n",
       "    </tr>\n",
       "    <tr>\n",
       "      <th>1</th>\n",
       "      <td>4.0</td>\n",
       "      <td>4.0</td>\n",
       "      <td>8.0</td>\n",
       "    </tr>\n",
       "    <tr>\n",
       "      <th>2</th>\n",
       "      <td>6.0</td>\n",
       "      <td>6.0</td>\n",
       "      <td>12.0</td>\n",
       "    </tr>\n",
       "    <tr>\n",
       "      <th>3</th>\n",
       "      <td>10.0</td>\n",
       "      <td>10.0</td>\n",
       "      <td>20.0</td>\n",
       "    </tr>\n",
       "    <tr>\n",
       "      <th>4</th>\n",
       "      <td>30.0</td>\n",
       "      <td>30.0</td>\n",
       "      <td>60.0</td>\n",
       "    </tr>\n",
       "  </tbody>\n",
       "</table>\n",
       "</div>"
      ],
      "text/plain": [
       "      x     y   sum\n",
       "0   1.0   1.0   2.0\n",
       "1   4.0   4.0   8.0\n",
       "2   6.0   6.0  12.0\n",
       "3  10.0  10.0  20.0\n",
       "4  30.0  30.0  60.0"
      ]
     },
     "execution_count": 1,
     "metadata": {},
     "output_type": "execute_result"
    }
   ],
   "source": [
    "#Khusnuma Yasmeen\n",
    "#221P009, 49\n",
    "import pandas as pd\n",
    "df = pd.read_csv(\"./exp3a.csv\")\n",
    "df.head()"
   ]
  },
  {
   "cell_type": "code",
   "execution_count": 2,
   "id": "a4c4e65a",
   "metadata": {},
   "outputs": [
    {
     "data": {
      "text/plain": [
       "Text(0.5, 1.0, ' X Versus Sum By Khusnuma Yasmeen')"
      ]
     },
     "execution_count": 2,
     "metadata": {},
     "output_type": "execute_result"
    },
    {
     "data": {
      "image/png": "[encoded data removed]",
      "text/plain": [
       "<Figure size 640x480 with 1 Axes>"
      ]
     },
     "metadata": {},
     "output_type": "display_data"
    }
   ],
   "source": [
    "import matplotlib.pyplot as plt\n",
    "plt.scatter(df[\"x\"],df[\"sum\"])\n",
    "plt.title(\" X Versus Sum By Khusnuma Yasmeen\")"
   ]
  },
  {
   "cell_type": "code",
   "execution_count": 3,
   "id": "ad811169",
   "metadata": {},
   "outputs": [
    {
     "name": "stdout",
     "output_type": "stream",
     "text": [
      "    Actual   Predicted\n",
      "8     68.0   67.148049\n",
      "16   414.4  413.513469\n",
      "0      2.0    1.171852\n",
      "24    34.0   33.160021\n",
      "11   336.5  335.632646\n",
      "9    131.0  130.120985\n"
     ]
    }
   ],
   "source": [
    "import pandas as pd\n",
    "from sklearn.linear_model import LinearRegression\n",
    "from sklearn.model_selection import train_test_split\n",
    "\n",
    "# Split dataset into training and testing sets\n",
    "X_train, X_test, Y_train, Y_test = train_test_split(\n",
    "    df[[\"x\", \"y\"]],  # Features\n",
    "    df[\"sum\"],       # Target\n",
    "    test_size=0.2,   # 20% test data\n",
    "    random_state=42  # for reproducibility\n",
    ")\n",
    "\n",
    "# Create and train the model\n",
    "reg = LinearRegression()\n",
    "reg.fit(X_train, Y_train)\n",
    "\n",
    "# Predict on test data\n",
    "Y_predict = reg.predict(X_test)\n",
    "\n",
    "# Compare actual vs predicted\n",
    "result = pd.DataFrame({'Actual': Y_test, 'Predicted': Y_predict})\n",
    "print(result)\n"
   ]
  },
  {
   "cell_type": "code",
   "execution_count": null,
   "id": "22362b76",
   "metadata": {},
   "outputs": [],
   "source": [
    "import tkinter as tk\n",
    "import pandas as pd\n",
    "from sklearn.linear_model import LinearRegression\n",
    "from sklearn.model_selection import train_test_split\n",
    "\n",
    "# --- Train Linear Regression model first ---\n",
    "# Example DataFrame (replace this with your actual df)\n",
    "df = pd.DataFrame({\n",
    "    \"x\": [1, 2, 3, 4, 5],\n",
    "    \"y\": [2, 4, 6, 8, 10],\n",
    "})\n",
    "df[\"sum\"] = df[\"x\"] + df[\"y\"]\n",
    "\n",
    "X_train, X_test, Y_train, Y_test = train_test_split(\n",
    "    df[[\"x\", \"y\"]], df[\"sum\"], test_size=0.2, random_state=42\n",
    ")\n",
    "\n",
    "reg = LinearRegression()\n",
    "reg.fit(X_train, Y_train)\n",
    "\n",
    "# --- Tkinter GUI ---\n",
    "root = tk.Tk()\n",
    "root.title(\"Add Two Numbers using LR, By Khusnuma Yasmeen\")\n",
    "root.geometry('800x400')\n",
    "\n",
    "def predict_sum():\n",
    "    try:\n",
    "        x = float(entry_x.get())\n",
    "        y = float(entry_y.get())\n",
    "\n",
    "        # Prepare input for prediction\n",
    "        input_df = pd.DataFrame({'x': [x], 'y': [y]})\n",
    "        sum_prediction = reg.predict(input_df)\n",
    "\n",
    "        label_prediction.config(text=f\"Predicted Sum: {sum_prediction[0]:.2f}\")\n",
    "    except ValueError:\n",
    "        label_prediction.config(text=\"Please enter valid numbers.\")\n",
    "\n",
    "# Widgets\n",
    "label_entry = tk.Label(root, text=\"Enter X and Y values:\")\n",
    "label_entry.pack(pady=10)\n",
    "\n",
    "entry_x = tk.Entry(root, width=10)\n",
    "entry_x.pack()\n",
    "\n",
    "entry_y = tk.Entry(root, width=10)\n",
    "entry_y.pack()\n",
    "\n",
    "button_predict = tk.Button(root, text=\"Predict sum\", command=predict_sum)\n",
    "button_predict.pack(pady=10)\n",
    "\n",
    "label_prediction = tk.Label(root, text=\"\")\n",
    "label_prediction.pack(pady=10)\n",
    "\n",
    "# Run\n",
    "root.mainloop()\n"
   ]
  },
  {
   "cell_type": "code",
   "execution_count": null,
   "id": "71de418d",
   "metadata": {},
   "outputs": [],
   "source": []
  }
 ],
 "metadata": {
  "kernelspec": {
   "display_name": "Python 3 (ipykernel)",
   "language": "python",
   "name": "python3"
  },
  "language_info": {
   "codemirror_mode": {
    "name": "ipython",
    "version": 3
   },
   "file_extension": ".py",
   "mimetype": "text/x-python",
   "name": "python",
   "nbconvert_exporter": "python",
   "pygments_lexer": "ipython3",
   "version": "3.11.3"
  }
 },
 "nbformat": 4,
 "nbformat_minor": 5
}
